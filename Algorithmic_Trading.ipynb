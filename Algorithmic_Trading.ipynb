{
 "cells": [
  {
   "cell_type": "markdown",
   "id": "b6189ea8-4dd8-43a8-bb89-70d8c11e75e5",
   "metadata": {},
   "source": [
    "- Developed by J. Vallee in 2025\n",
    "- Jupyter NoteBook 7.3.2\n",
    "- Anaconda Navigator 2.6.5\n",
    "- Environment \"YahooFinancials\""
   ]
  },
  {
   "cell_type": "markdown",
   "id": "674342d6-9812-4e06-856b-5a0e8e8d8d6b",
   "metadata": {},
   "source": [
    "# Pre-Process"
   ]
  },
  {
   "cell_type": "code",
   "execution_count": 1,
   "id": "bf95d250-17c5-4d1e-9f40-26f2fafc441b",
   "metadata": {},
   "outputs": [
    {
     "name": "stdout",
     "output_type": "stream",
     "text": [
      "Python 3.12.11\n"
     ]
    }
   ],
   "source": [
    "! python --version"
   ]
  },
  {
   "cell_type": "markdown",
   "id": "29bb6b38-6662-45f5-b0e9-5f3604461979",
   "metadata": {},
   "source": [
    "## Packages "
   ]
  },
  {
   "cell_type": "markdown",
   "id": "1896c0a6-d676-46e2-8f1c-59e68828ad1c",
   "metadata": {},
   "source": [
    "#### APIs\n",
    "[Pandas](https://pandas.pydata.org/docs/reference/index.html)"
   ]
  },
  {
   "cell_type": "raw",
   "id": "0ec5c2d0-33b6-46bf-96f6-acd5e64372ce",
   "metadata": {
    "collapsed": true,
    "jupyter": {
     "outputs_hidden": true
    },
    "scrolled": true
   },
   "source": [
    "! pip install -q yfinance pandas mplfinance datetime yfinance yahoofinancials fredapi #ipympl"
   ]
  },
  {
   "cell_type": "raw",
   "id": "5ab6c0ba-b3cc-4039-a83c-63e48d17252c",
   "metadata": {
    "scrolled": true
   },
   "source": [
    "! pip install -q --upgrade yfinance yahoofinancials"
   ]
  },
  {
   "cell_type": "code",
   "execution_count": 2,
   "id": "e54bd2fe-4894-4f19-bfc3-7bf097ee3858",
   "metadata": {
    "collapsed": true,
    "jupyter": {
     "outputs_hidden": true
    },
    "scrolled": true
   },
   "outputs": [
    {
     "name": "stdout",
     "output_type": "stream",
     "text": [
      "DateTime                      5.5\n",
      "fredapi                       0.5.2\n",
      "mplfinance                    0.12.10b0\n",
      "pandas                        2.3.0\n",
      "yahoofinancials               1.20\n",
      "yfinance                      0.2.63\n"
     ]
    }
   ],
   "source": [
    "! pip list | findstr \"pandas mplfinance DateTime yfinance yahoofinancials fredapi\""
   ]
  },
  {
   "cell_type": "code",
   "execution_count": 1,
   "id": "2f9e6e8d-1248-4fe5-b18c-7ca9f6f5b9d4",
   "metadata": {},
   "outputs": [],
   "source": [
    "import pandas             as pd      # manipulate dataframes\n",
    "import numpy              as np      # math functions\n",
    "from datetime import date as d       # handle dates\n",
    "from datetime import datetime as dt  # handle timestamps\n",
    "from datetime import timedelta       # add days to dates\n",
    "import matplotlib.pyplot  as plt     # plot custom charts\n",
    "import mplfinance         as mpf     # plot stock charts\n",
    "import yfinance           as yf      # get stocks data\n",
    "from IPython.display import HTML     # code in HTML\n",
    "from yahoofinancials import YahooFinancials as yfs # get stocks from Yahoo Financials\n",
    "from fredapi import Fred             # macro-economic data"
   ]
  },
  {
   "cell_type": "markdown",
   "id": "808b24f2-9dca-4013-938e-62793cba6b74",
   "metadata": {},
   "source": [
    "## Functions"
   ]
  },
  {
   "cell_type": "markdown",
   "id": "156ce744-7f2f-4c04-a549-222201ac7102",
   "metadata": {},
   "source": [
    "### Load"
   ]
  },
  {
   "cell_type": "code",
   "execution_count": 42,
   "id": "4f1c8b91-c16f-4a3c-bb8c-70d6fafc137c",
   "metadata": {},
   "outputs": [],
   "source": [
    "def read_df_from_csv(s_path):\n",
    "    # headers: Datetime,Open,High,Low,Close,Volume\n",
    "    #df_contents = pd.read_csv(s_path) .rename(columns={'Unnamed: 0': 'request_id'}) \\\n",
    "    df_contents = pd.read_csv(s_path).set_index('Datetime')\n",
    "    return df_contents"
   ]
  },
  {
   "cell_type": "raw",
   "id": "8d0099df-a2fc-4657-89d4-720267121047",
   "metadata": {},
   "source": [
    "path_X = dir_in + 'X_test_2.csv'\n",
    "df_X = load_data(path_X)"
   ]
  },
  {
   "cell_type": "raw",
   "id": "61cdd24d-7804-48c9-b381-13ada5c9f31f",
   "metadata": {},
   "source": [
    "read_df_from_csv('d:\\Downloads\\Edu_Data_NSE_1Min\\APOLLOHOSP.csv')"
   ]
  },
  {
   "cell_type": "code",
   "execution_count": 13,
   "id": "168fc6a8-062e-437f-9780-f34a8ff1a9ab",
   "metadata": {
    "jupyter": {
     "source_hidden": true
    }
   },
   "outputs": [],
   "source": [
    "def get_str_past_date(s_date, nb_past_days) :\n",
    "    d_ref  = dt.strptime(s_date, S_DATE_FORMAT)\n",
    "    d_past = d_ref - timedelta(days=nb_past_days)\n",
    "    return d_past.strftime(S_DATE_FORMAT)  "
   ]
  },
  {
   "cell_type": "code",
   "execution_count": 8,
   "id": "8ae72ddb-a2c2-4603-87fb-6a29264b9aeb",
   "metadata": {
    "jupyter": {
     "source_hidden": true
    }
   },
   "outputs": [],
   "source": [
    "def load_daily_from_yfinance(   ticker, start, end) :\n",
    "    # valid intervals : 1 2 5 15 30 60 90m 1h 1 5d 1wk 1 3mo\n",
    "    df_multi_index = yf.download(ticker, start, end, interval='1d', auto_adjust=False, group_by=ticker)\n",
    "    df_out = df_multi_index[ticker]\n",
    "    return df_out[LI_COLS]"
   ]
  },
  {
   "cell_type": "code",
   "execution_count": 32,
   "id": "b6be29b7-7fe2-4bf7-a945-fe516d97c7be",
   "metadata": {
    "jupyter": {
     "source_hidden": true
    }
   },
   "outputs": [],
   "source": [
    "def standardize_yfs_df(df_in) :\n",
    "    LI_YFS_COLS = ['formatted_date', 'open', 'close', 'high', 'low', 'volume']\n",
    "    df_out = df_in[LI_YFS_COLS].copy()\n",
    "    df_out.rename(columns={'formatted_date':  'Date'}, inplace=True)\n",
    "    df_out.columns = df_out.columns.str.capitalize()\n",
    "    df_out.set_index('Date', inplace=True)\n",
    "    df_out.index = pd.to_datetime(df_out.index)\n",
    "    return df_out"
   ]
  },
  {
   "cell_type": "code",
   "execution_count": 23,
   "id": "8b4f7131-0771-41e6-ada9-509b30e211ad",
   "metadata": {
    "jupyter": {
     "source_hidden": true
    }
   },
   "outputs": [],
   "source": [
    "def load_daily_from_yfinancials(ticker, start, end) :\n",
    "    yfs_ticker = yfs(ticker)\n",
    "    bool_yfs_is_OK = ( yfs_ticker.get_current_price() > 0 )\n",
    "    if bool_yfs_is_OK :\n",
    "        try :\n",
    "            js_stocks = yfs_ticker.get_historical_price_data(start, end, 'daily')\n",
    "            df_out = pd.DataFrame(js_stocks[ticker]['prices']) \n",
    "        except Exception as except_yfs : \n",
    "            print( type(except_yfs).__name__ )\n",
    "    else :\n",
    "        s_command = f\"yfs('{ticker}').get_historical_price_data('{start}', '{end}', 'daily')\"\n",
    "        print('YahooFinancials has issues at this moment, this command :\\n', s_command)\n",
    "        print('returns :\\n', js_stocks)\n",
    "        str_error = 'No price records sent by Yahoo Financials' \n",
    "        assert False, (str_error)\n",
    "    return standardize_yfs_df(df_out)"
   ]
  },
  {
   "cell_type": "code",
   "execution_count": 8,
   "id": "7459ddf8-3f93-4e0f-8680-9b585004cf8e",
   "metadata": {},
   "outputs": [],
   "source": [
    "def load_daily_from_local(ticker, start, end) :\n",
    "    df_multi_index = yf.download(ticker, start, end, interval='1d', auto_adjust=False, group_by=ticker)\n",
    "    df_out = df_multi_index[ticker]\n",
    "    return df_out[LI_COLS]"
   ]
  },
  {
   "cell_type": "code",
   "execution_count": 11,
   "id": "84c68766-56a5-404f-b336-004c094450f5",
   "metadata": {},
   "outputs": [],
   "source": [
    "def load_daily_from(s_provider, ticker, nb_days, s_end_date_excluded) :\n",
    "    s_start_date = get_str_past_date(s_end_date_excluded, nb_days) \n",
    "    print(f'Daily data from {s_provider} for {ticker} on period [{s_start_date};{s_end_date_excluded}>' )\n",
    "    if   s_provider == 'yfinance' :        \n",
    "        return load_daily_from_yfinance(   ticker, nb_days, s_start_date, s_end_date_excluded)\n",
    "    elif s_provider == 'yahoofinancials' : \n",
    "        return load_daily_from_yfinancials(ticker, nb_days, s_start_date, s_end_date_excluded)\n",
    "    elif s_provider == 'local' : \n",
    "        return load_daily_from_local(ticker, nb_days, s_start_date, s_end_date_excluded)\n",
    "    else :\n",
    "        str_error = 'Unknown stock data provider'\n",
    "        assert False, (str_error) # prevents execution of following cells"
   ]
  },
  {
   "cell_type": "code",
   "execution_count": 9,
   "id": "f6312ab8-31c0-4fba-86f3-892983cecc14",
   "metadata": {
    "collapsed": true,
    "jupyter": {
     "outputs_hidden": true,
     "source_hidden": true
    }
   },
   "outputs": [],
   "source": [
    "# To do : write to / read from csv file cf. video 1:25:33"
   ]
  },
  {
   "cell_type": "markdown",
   "id": "de67dbc6-128f-4f76-a3a3-796f09f63266",
   "metadata": {
    "jp-MarkdownHeadingCollapsed": true
   },
   "source": [
    "### Missing Values"
   ]
  },
  {
   "cell_type": "code",
   "execution_count": 10,
   "id": "b1f84e36-00a2-478f-a8ec-a6a8e6266a6f",
   "metadata": {
    "collapsed": true,
    "jupyter": {
     "outputs_hidden": true,
     "source_hidden": true
    }
   },
   "outputs": [],
   "source": [
    "def handle_missing_values(df_in) :\n",
    "    bl_has_missing_values = ( df_in.isna().sum().sum() > 0 )\n",
    "    if bl_has_missing_values : \n",
    "        str_error = 'DatFrame contains missing values but handling them is still pending'\n",
    "        assert False, (str_error) # prevents execution of following cells\n",
    "    else :\n",
    "        print('DatFrame contains NO missing values')"
   ]
  },
  {
   "cell_type": "code",
   "execution_count": 11,
   "id": "76d9cb8d-ea9e-4131-82e5-d5b5f88fa31e",
   "metadata": {
    "collapsed": true,
    "jupyter": {
     "outputs_hidden": true,
     "source_hidden": true
    }
   },
   "outputs": [],
   "source": [
    "get_NaN_dates = lambda df_in, str_col : df_in[df_in[str_col].isna()].index.strftime('%Y-%m-%d').to_list()"
   ]
  },
  {
   "cell_type": "markdown",
   "id": "1f7be162-9ca8-42e6-a5cb-c5211a964c4a",
   "metadata": {
    "jp-MarkdownHeadingCollapsed": true
   },
   "source": [
    "### Plot Candlesticks Chart"
   ]
  },
  {
   "cell_type": "raw",
   "id": "21e04537-cfa5-4ba2-a62a-af8ed4cecad2",
   "metadata": {},
   "source": [
    "# interactive plots != inline\n",
    "%matplotlib ipympl  "
   ]
  },
  {
   "cell_type": "code",
   "execution_count": 12,
   "id": "56b07493-8f16-4229-8d48-6e49d886a31d",
   "metadata": {
    "collapsed": true,
    "jupyter": {
     "outputs_hidden": true,
     "source_hidden": true
    }
   },
   "outputs": [],
   "source": [
    "def get_subset_to_plot(df_in, max_nb_trades=599) :\n",
    "    if len(df_in) >= 600 :\n",
    "        max_nb_trades  # <600 to avoid \"Too much data\" warning\n",
    "        df_subset = df_in.tail(max_nb_trades)  # only last 600 trades are plotted \n",
    "        return df_subset\n",
    "    else :\n",
    "        return df_in"
   ]
  },
  {
   "cell_type": "code",
   "execution_count": 13,
   "id": "86fbc5dd-9671-43b6-a329-5914bf705868",
   "metadata": {
    "collapsed": true,
    "jupyter": {
     "outputs_hidden": true,
     "source_hidden": true
    }
   },
   "outputs": [],
   "source": [
    "def plot_chart(df_in, s_title, li_mav=[], li_addplots=[], bo_add_Volume=True, i_width=12, i_height=5, bo_show_legend=False) :\n",
    "    '''\n",
    "    Plots a candlestick chart with optional Volume.\n",
    "\n",
    "    Args:\n",
    "        df_in (pd.DataFrame): input DataFrame with index Date and columns Open, High, Low, Close, Volume\n",
    "        s_title (str): chart's title\n",
    "        bo_add_Volume (bool, optional): If True (default), adds a volume subplot\n",
    "    '''\n",
    "    df_subset = get_subset_to_plot(df_in)\n",
    "    fig, axes = mpf.plot(df_subset, type='candle', title=s_title, volume=bo_add_Volume, figsize=(i_width, i_height), \n",
    "                        mav=li_mav,           # moving average curves             \n",
    "                        addplot=li_addplots,  # append other curves in current or additional panels \n",
    "                        style='yahoo',        # other styles: binance, nightclouds\n",
    "                        returnfig=True        # allows to return axes\n",
    "                )\n",
    "    if bo_show_legend :\n",
    "        axes[1].set_yticks([])\n",
    "        axes[1].legend(loc='upper left')\n",
    "    plt.show()\n",
    "    plt.close()"
   ]
  },
  {
   "cell_type": "code",
   "execution_count": 14,
   "id": "8f5e670c-54b9-4729-a14c-751a1c68ed26",
   "metadata": {
    "collapsed": true,
    "jupyter": {
     "outputs_hidden": true,
     "source_hidden": true
    }
   },
   "outputs": [],
   "source": [
    "def append_macd (df_in, bo_add_Volume, li_addplots=[]) :\n",
    "    '''\n",
    "    Calculates 3 indicators (MACD Signal lines + MACD Histogram) and appends them to a list.\n",
    "\n",
    "    Args:\n",
    "        df_in (pd.DataFrame): input DataFrame with index Date and columns Open, High, Low, Close, Volume\n",
    "        bo_add_MACD   (bool, optional): If True (default), adds \n",
    "    '''\n",
    "    # Calculate MACD (trend of a trend) \n",
    "    # with ewm() = Exponential Weighted Moving average\n",
    "    df_fast_average = df_in['Close'].ewm(span=12, adjust=False).mean() \n",
    "    df_slow_average = df_in['Close'].ewm(span=26, adjust=False).mean()\n",
    "    df_fast_trend   = df_fast_average - df_slow_average\n",
    "    df_slow_trend   = df_fast_trend.ewm(span=9, adjust=False).mean()\n",
    "    df_trend_of_trend = df_fast_trend - df_slow_trend\n",
    "    df_in.loc[:, 'MACD']   = df_slow_trend\n",
    "    df_in.loc[:, 'Signal'] = df_fast_trend\n",
    "    df_in.loc[:, 'Hist_pos'] = df_trend_of_trend.map(lambda x: x if x > 0 else 0)\n",
    "    df_in.loc[:, 'Hist_neg'] = df_trend_of_trend.map(lambda x: x if x < 0 else 0)\n",
    "\n",
    "    # Append MACD curves to chart \n",
    "    df_subset = get_subset_to_plot(df_in)  # only last 600 trades are plotted \n",
    "    if bo_add_Volume :  hist_panel = 2\n",
    "    else             :  hist_panel = 1\n",
    "    signal_panel = hist_panel + 1\n",
    "    li_addplots = [        \n",
    "        mpf.make_addplot(df_subset[['Hist_pos']], type='bar',  panel=hist_panel,   ylabel='Histogram', color='green'),\n",
    "        mpf.make_addplot(df_subset[['Hist_neg']], type='bar',  panel=hist_panel,   ylabel='Histogram', color='red'),\n",
    "        mpf.make_addplot(df_subset[['MACD']]    , type='line', panel=signal_panel, ylabel='MACD', color='gray', label='MACD'),\n",
    "        mpf.make_addplot(df_subset[['Signal']]  , type='line', panel=signal_panel, ylabel='Signal', color='orange')\n",
    "    ]\n",
    "    return li_addplots"
   ]
  },
  {
   "cell_type": "code",
   "execution_count": 15,
   "id": "15ce9af7-b144-43be-918a-ba1b50fa4bef",
   "metadata": {
    "collapsed": true,
    "jupyter": {
     "outputs_hidden": true
    }
   },
   "outputs": [],
   "source": [
    "def plot_pattern_sample(df_in, li_dates, s_pattern, delta=5) : \n",
    "    # dates range = d_last_occurrence +- delta\n",
    "    if li_dates == [] : print('Pattern not found in dataset')\n",
    "    else :\n",
    "        d_last_occurrence = li_dates[-1]\n",
    "        print('d_last_occurrency ' + s_pattern, d_last_occurrence)\n",
    "        t_delta = timedelta(days=delta)\n",
    "        d_start = d_last_occurrence - t_delta\n",
    "        d_end   = d_last_occurrence + t_delta\n",
    "        df_subset = df_in.loc[d_start : d_end]\n",
    "        plot_chart(df_subset, 'Last Occurrency of ' + s_pattern, \n",
    "                   li_mav=[], li_addplots=[], bo_add_Volume=False, i_width=7, i_height=2)"
   ]
  },
  {
   "cell_type": "code",
   "execution_count": 16,
   "id": "a603c4f2-b8d6-4c1f-a731-0e1b3f264060",
   "metadata": {
    "collapsed": true,
    "jupyter": {
     "outputs_hidden": true,
     "source_hidden": true
    }
   },
   "outputs": [],
   "source": [
    "def append_pattern(df_in, s_pattern, s_color) :\n",
    "    df_subset = get_subset_to_plot(df_in)\n",
    "    return mpf.make_addplot(df_subset[[s_pattern]], type='bar', color=s_color, alpha=0.3, label=s_pattern)"
   ]
  },
  {
   "cell_type": "code",
   "execution_count": 17,
   "id": "caff4d3c-bdcd-4e5c-b4d7-f4aba21f6c38",
   "metadata": {
    "collapsed": true,
    "jupyter": {
     "outputs_hidden": true,
     "source_hidden": true
    }
   },
   "outputs": [],
   "source": [
    "def plot_pattern_full(df_in, s_pattern, li_mav=[], bo_volume=False, i_width=15, i_height=5, s_color='cyan') :\n",
    "    s_title = s_pattern + ' on chart'\n",
    "    li_addplots = [ append_pattern(df_in, s_pattern, s_color) ]\n",
    "    plot_chart(df_in, s_title, li_mav, li_addplots, bo_volume, i_width, i_height)"
   ]
  },
  {
   "cell_type": "markdown",
   "id": "d26cb05a-11d9-478d-97c1-5dfc6241deba",
   "metadata": {
    "jp-MarkdownHeadingCollapsed": true
   },
   "source": [
    "### Candlesticks"
   ]
  },
  {
   "cell_type": "code",
   "execution_count": 18,
   "id": "21a008c3-c85f-45f1-b0a4-f758c25193ed",
   "metadata": {
    "collapsed": true,
    "jupyter": {
     "outputs_hidden": true,
     "source_hidden": true
    }
   },
   "outputs": [],
   "source": [
    "li_main_prices = ['Open', 'Close', 'High', 'Low'] "
   ]
  },
  {
   "cell_type": "markdown",
   "id": "c59a3d64-3fef-4130-8b9b-94675e73fda9",
   "metadata": {},
   "source": [
    "#### Get Dimensions of a Candle "
   ]
  },
  {
   "cell_type": "code",
   "execution_count": 19,
   "id": "c78d0211-b786-434d-8dea-908825a89f86",
   "metadata": {
    "collapsed": true,
    "jupyter": {
     "outputs_hidden": true,
     "source_hidden": true
    }
   },
   "outputs": [],
   "source": [
    "def get_candle_dims(trade) :\n",
    "    open_, close, high, low = trade[li_main_prices]\n",
    "    body       = abs(open_         - close) \n",
    "    range_     = high              - low\n",
    "    upper_wick = high              - max(close, open_)\n",
    "    lower_wick = min(close, open_) - low\n",
    "    return body, range_, upper_wick, lower_wick"
   ]
  },
  {
   "cell_type": "markdown",
   "id": "e509d374-68f6-44dc-90a0-f06ce5d691fe",
   "metadata": {},
   "source": [
    "#### Get Top & Bottom of all candles' bodies "
   ]
  },
  {
   "cell_type": "code",
   "execution_count": 20,
   "id": "14008c6e-d313-42df-bef4-9d48f5f4ee3a",
   "metadata": {
    "collapsed": true,
    "jupyter": {
     "outputs_hidden": true,
     "source_hidden": true
    }
   },
   "outputs": [],
   "source": [
    "def get_body_top   (df_in) : \n",
    "    return np.maximum(df_in['Open'] , df_in['Close']) # get max value from 2 DF columns \n",
    "\n",
    "def get_body_bottom(df_in) :      \n",
    "    return np.minimum(df_in['Open'] , df_in['Close']) # get min value from 2 DF columns"
   ]
  },
  {
   "cell_type": "markdown",
   "id": "99f99fa5-dce4-4d74-9b98-430900e09ac2",
   "metadata": {
    "jp-MarkdownHeadingCollapsed": true
   },
   "source": [
    "### Candlestick Patterns"
   ]
  },
  {
   "cell_type": "markdown",
   "id": "ee323d2a-4539-41a3-a4c0-633a1dcc7999",
   "metadata": {},
   "source": [
    "#### Doji"
   ]
  },
  {
   "cell_type": "code",
   "execution_count": 21,
   "id": "fd60844c-a43f-4e99-966c-7ab7a877c0c5",
   "metadata": {
    "collapsed": true,
    "jupyter": {
     "outputs_hidden": true,
     "source_hidden": true
    }
   },
   "outputs": [],
   "source": [
    "def is_doji(trade) : # A Doji's body is much smaller than its range\n",
    "    body, range_, _, _     = get_candle_dims(trade)\n",
    "    ratio_body_range = 0.1\n",
    "    bo_is_doji = ( body <= ratio_body_range * range_ )\n",
    "    return bo_is_doji"
   ]
  },
  {
   "cell_type": "markdown",
   "id": "8efac1b0-9768-4a96-a7bd-1f74fa8ffaeb",
   "metadata": {},
   "source": [
    "<img src='https://img.investingoal.com/app/uploads/2024/11/long-legged-doji-candlestick-pattern.jpg' width='400px'>"
   ]
  },
  {
   "cell_type": "markdown",
   "id": "5746f86c-a8ff-4037-a2c8-5680db73c238",
   "metadata": {},
   "source": [
    "#### Inverted Hammer"
   ]
  },
  {
   "cell_type": "code",
   "execution_count": 22,
   "id": "f9ddce45-bbfd-487f-8ccc-d813113933f0",
   "metadata": {
    "collapsed": true,
    "jupyter": {
     "outputs_hidden": true,
     "source_hidden": true
    }
   },
   "outputs": [],
   "source": [
    "def is_inv_hammer(trade) : # An Inverse Hammer's body is very close to its Low\n",
    "    body, _, upper_wick, lower_wick = get_candle_dims(trade)\n",
    "    ratio_up_wick_body = 2\n",
    "    ratio_lo_wick_body = 0.1\n",
    "    bo_is_inv_hammer = ( ( upper_wick >= ratio_up_wick_body * body ) and\n",
    "                         ( lower_wick <= ratio_lo_wick_body * body ) )\n",
    "    return bo_is_inv_hammer"
   ]
  },
  {
   "cell_type": "markdown",
   "id": "b253af08-c1b9-4315-a414-2a6ed7707b61",
   "metadata": {},
   "source": [
    "<img src='https://media.assettype.com/tnm/import/sites/default/files/images/image1%20(2)(5).png' width='400px'>"
   ]
  },
  {
   "cell_type": "markdown",
   "id": "e65310d0-2bc9-4459-a51c-3247e0956ca4",
   "metadata": {},
   "source": [
    "#### Hammer"
   ]
  },
  {
   "cell_type": "code",
   "execution_count": 23,
   "id": "2286b222-dca6-465b-908a-1aa5781471e8",
   "metadata": {
    "collapsed": true,
    "jupyter": {
     "outputs_hidden": true,
     "source_hidden": true
    }
   },
   "outputs": [],
   "source": [
    "def is_hammer(trade) : # A Hammer's body is very close to its High\n",
    "    body, _, upper_wick, lower_wick = get_candle_dims(trade)\n",
    "    ratio_up_wick_body = 0.1\n",
    "    ratio_lo_wick_body = 2\n",
    "    bo_is_hammer = ( ( upper_wick <= ratio_up_wick_body * body ) and\n",
    "                     ( lower_wick >= ratio_lo_wick_body * body ) )\n",
    "    return bo_is_hammer"
   ]
  },
  {
   "cell_type": "markdown",
   "id": "2b659b4a-7ea4-40d0-8ebd-67bce849ea16",
   "metadata": {},
   "source": [
    "<img src='https://ninjatrader.com/getattachment/5e35b7c2-7054-4f8a-8356-f2efc79202f9/bullish-hammer-image.png' width='400px'>"
   ]
  },
  {
   "cell_type": "markdown",
   "id": "9c2bde95-e37a-43ee-adef-d0e7b95449d1",
   "metadata": {},
   "source": [
    "#### Bullish/Bearish Engulfing"
   ]
  },
  {
   "cell_type": "code",
   "execution_count": 24,
   "id": "b9675a48-5721-4cb5-8de3-fa6b3e82ca25",
   "metadata": {
    "collapsed": true,
    "jupyter": {
     "outputs_hidden": true,
     "source_hidden": true
    }
   },
   "outputs": [],
   "source": [
    "def get_curr_prev_dfs(df_in) :\n",
    "    # Create 2 DFs to compare columns rather than pairs of consecutive records\n",
    "    df_curr = df_in[li_main_prices].copy()\n",
    "    df_prev = df_curr.shift(1)    \n",
    "    df_prev.iloc[0] = df_prev.iloc[1]    # Prev : replace 1st row's NaN by 2nd row value\n",
    "    return df_curr, df_prev"
   ]
  },
  {
   "cell_type": "code",
   "execution_count": 25,
   "id": "dccb4674-4155-4390-8416-5b98c4a76fdd",
   "metadata": {
    "collapsed": true,
    "jupyter": {
     "outputs_hidden": true,
     "source_hidden": true
    }
   },
   "outputs": [],
   "source": [
    "def is_bull_bear_engulf(df_in) :\n",
    "    df_curr, df_prev = get_curr_prev_dfs(df_in) \n",
    "    \n",
    "    # Get series of Engulfing Candles\n",
    "    se_high_increased   = ( df_curr['High']          > df_prev['High'] )\n",
    "    se_low_decreased    = ( df_prev['Low']           > df_curr['Low'] )\n",
    "    se_top_increased    = ( get_body_top   (df_curr) > get_body_top   (df_prev) )\n",
    "    se_bottom_decreased = ( get_body_bottom(df_prev) > get_body_bottom(df_curr) )\n",
    "    se_engulfing        = se_high_increased & se_low_decreased & se_top_increased & se_bottom_decreased\n",
    "\n",
    "    # Get series of Bullish Candles (current & previous)\n",
    "    se_prev_bullish     = ( df_prev['Close']      > df_prev['Open'] ) \n",
    "    se_curr_bullish     = ( df_curr['Close']      > df_curr['Open'] )    \n",
    "    \n",
    "    se_bullish_engulf   = ( se_engulfing & se_curr_bullish     & ~se_prev_bullish ) # Get series of Bullish Engulfings\n",
    "    se_bearish_engulf   = ( se_engulfing & ~se_curr_bullish    &  se_prev_bullish ) # Get series of Bearish Engulfings\n",
    "    \n",
    "    return se_bullish_engulf, se_bearish_engulf"
   ]
  },
  {
   "cell_type": "markdown",
   "id": "73bd1f31-7f88-4879-9f6d-f4655e909455",
   "metadata": {},
   "source": [
    "<img src='https://fxpipsgainer.com/wp-content/uploads/2022/03/Bullish-and-Bearish-Engulfing.png' width='400px'> "
   ]
  },
  {
   "cell_type": "markdown",
   "id": "b10ed02c-9e5d-4555-8685-f85de54b73d4",
   "metadata": {
    "jp-MarkdownHeadingCollapsed": true
   },
   "source": [
    "### Curves"
   ]
  },
  {
   "cell_type": "markdown",
   "id": "4126d87b-dedb-420f-8f4c-e90bcbcaf042",
   "metadata": {},
   "source": [
    "#### SMA"
   ]
  },
  {
   "cell_type": "code",
   "execution_count": 26,
   "id": "b3ebe582-509f-4c1a-8bf3-7dda38d2477b",
   "metadata": {
    "collapsed": true,
    "jupyter": {
     "outputs_hidden": true,
     "source_hidden": true
    }
   },
   "outputs": [],
   "source": [
    "get_sma = lambda ser_in, window_width : ser_in.rolling(window_width).mean()"
   ]
  },
  {
   "cell_type": "markdown",
   "id": "05f1ef5b-c4bc-4bb8-b36e-a37bcb39790d",
   "metadata": {},
   "source": [
    "#### Crossing Curves"
   ]
  },
  {
   "cell_type": "markdown",
   "id": "ea5f6349-6e92-47d4-ade6-372fafff4d61",
   "metadata": {},
   "source": [
    "<img src='https://aximedia.s3.amazonaws.com/rebrand-prod/rpfccnxi/how-to-understand-moving-average.png'  width='500px'>"
   ]
  },
  {
   "cell_type": "markdown",
   "id": "e0603953-596b-42f8-ad5a-0948552b9c1d",
   "metadata": {},
   "source": [
    "##### Get crossing points of 2 curves"
   ]
  },
  {
   "cell_type": "code",
   "execution_count": 27,
   "id": "cf5fdc0c-ceb9-4e05-aeaa-3fe7f1ba400a",
   "metadata": {
    "collapsed": true,
    "jupyter": {
     "outputs_hidden": true,
     "source_hidden": true
    }
   },
   "outputs": [],
   "source": [
    "def get_crossings(sr_short, sr_long) :\n",
    "    sr_short_prev      = sr_short.shift(1)              # get Short previous values\n",
    "    sr_prev_was_lower  = ( sr_short_prev <= sr_long )   # before crossing\n",
    "    sr_prev_was_higher = ~sr_prev_was_lower\n",
    "    sr_curr_is_higher  = ( sr_short      >= sr_long )   # after  crossing\n",
    "    sr_curr_is_lower   = ~sr_curr_is_higher\n",
    "    sr_cross_above     = ( sr_prev_was_lower  & sr_curr_is_higher )\n",
    "    sr_cross_below     = ( sr_prev_was_higher & sr_curr_is_lower )\n",
    "    return remove_trailing_Trues(sr_cross_above), remove_trailing_Trues(sr_cross_below)"
   ]
  },
  {
   "cell_type": "markdown",
   "id": "9d722db0-3892-4125-9f52-6c1761646279",
   "metadata": {},
   "source": [
    "##### Remove trailing True values from DF"
   ]
  },
  {
   "cell_type": "code",
   "execution_count": 28,
   "id": "71e32b39-827e-45b2-87e3-e16d4407716e",
   "metadata": {
    "collapsed": true,
    "jupyter": {
     "outputs_hidden": true,
     "source_hidden": true
    }
   },
   "outputs": [],
   "source": [
    "def remove_trailing_Trues(sr_in) :\n",
    "    sr_prev = sr_in.shift(1)            # get previous values\n",
    "    d_1st_trade = sr_prev.index[0]      # replaces deprecated fillna\n",
    "    sr_prev.loc[d_1st_trade] = False    # replace first row NaN to False\n",
    "    sr_prev = sr_prev.astype(bool)\n",
    "    sr_out = sr_in & ~sr_prev\n",
    "    sr_out.loc[d_1st_trade] = False     # replace first row NaN to False\n",
    "    return sr_out"
   ]
  },
  {
   "cell_type": "markdown",
   "id": "3171d0d2-058c-450e-9524-93d10755970d",
   "metadata": {
    "jp-MarkdownHeadingCollapsed": true
   },
   "source": [
    "### Earnings"
   ]
  },
  {
   "cell_type": "code",
   "execution_count": 29,
   "id": "33b9fa93-911b-473f-aaa4-9a94ffac2312",
   "metadata": {
    "collapsed": true,
    "jupyter": {
     "outputs_hidden": true,
     "source_hidden": true
    }
   },
   "outputs": [],
   "source": [
    "def get_balance(df_in, s_col_price, s_col_buy, s_col_sell, bo_verbose=True) :\n",
    "    # A single share is bought or sold per action\n",
    "    sold_qty      = df_in[s_col_sell].sum()  # all amounts' type is numpy.int64\n",
    "    bought_qty    = df_in[s_col_buy ].sum()\n",
    "    last_price    = df_in[s_col_price].iloc[-1]\n",
    "    current_total = last_price * ( bought_qty - sold_qty)\n",
    "    sold_total   = ( df_in.loc[df_in[s_col_sell], s_col_price] * 1 ).sum()\n",
    "    bought_total = ( df_in.loc[df_in[s_col_buy],  s_col_price] * 1 ).sum()\n",
    "    balance      = current_total + sold_total - bought_total\n",
    "    if bo_verbose :\n",
    "        print('sold_qty=', sold_qty, 'bought_qty=', bought_qty)\n",
    "        print('current_total=', current_total)\n",
    "        print('last_price=', last_price)\n",
    "        print('sold_total=', sold_total, 'bought_total=', bought_total)    \n",
    "    return int(balance)   # casts np.int -> int"
   ]
  },
  {
   "cell_type": "code",
   "execution_count": 30,
   "id": "1d56a813-2688-48bc-b82c-dfdd0788a946",
   "metadata": {
    "collapsed": true,
    "jupyter": {
     "outputs_hidden": true,
     "source_hidden": true
    }
   },
   "outputs": [],
   "source": [
    "def get_2SMA_balance(df_in, i_short, i_long, sr_close) :\n",
    "    sr_short = get_sma(sr_close, i_short)\n",
    "    sr_long  = get_sma(sr_close, i_long)\n",
    "    df['2SMA_Buy'], df_in['2SMA_Sell'] = get_crossings(sr_short, sr_long)\n",
    "    return get_balance(df_in, 'Close', '2SMA_Buy', '2SMA_Sell', bo_verbose=False)     "
   ]
  },
  {
   "cell_type": "markdown",
   "id": "c140457f-b49b-4ec4-8054-f2b2a9eebdff",
   "metadata": {},
   "source": [
    "# Main Process"
   ]
  },
  {
   "cell_type": "markdown",
   "id": "aaeebc19-f26e-4082-9dc1-5f6f8687da2f",
   "metadata": {},
   "source": [
    "## Load"
   ]
  },
  {
   "cell_type": "code",
   "execution_count": 15,
   "id": "8f1e3aea-4c79-44b5-9e1c-716d684b021a",
   "metadata": {},
   "outputs": [],
   "source": [
    "S_DATE_FORMAT = '%Y-%m-%d'\n",
    "LI_COLS = ['Open', 'Close', 'High', 'Low', 'Volume']"
   ]
  },
  {
   "cell_type": "markdown",
   "id": "f21048b6-9447-4cf5-ab47-df7a48c4b2d5",
   "metadata": {},
   "source": [
    "### Choose Stock & Dates"
   ]
  },
  {
   "cell_type": "code",
   "execution_count": 2,
   "id": "3455be90-57d5-4bdd-81ca-2e6b13675c95",
   "metadata": {},
   "outputs": [],
   "source": [
    "s_stock_ref = 'RELIANCE.NS' # Nifty 50 '^NSEI' 'RELIANCE.NS'\n",
    "nb_days     = 10\n",
    "s_end_date  = d.today().isoformat()"
   ]
  },
  {
   "cell_type": "markdown",
   "id": "b40c3941-7e51-4f83-ba4f-17cc97b2a8a9",
   "metadata": {},
   "source": [
    "### Choose Provider\n",
    "- [yFinance](https://ranaroussi.github.io/yfinance/reference/index.html) : basic\n",
    "- [Yahoo Financials](https://github.com/JECSand/yahoofinancials) : advanced includes metrics"
   ]
  },
  {
   "cell_type": "code",
   "execution_count": 3,
   "id": "86c50af6-b5a2-4f03-b7ad-414342a31091",
   "metadata": {},
   "outputs": [],
   "source": [
    "s_provider = 'yahoofinancials' # 'yahoofinancials' 'yfinance' 'local'"
   ]
  },
  {
   "cell_type": "markdown",
   "id": "acd7eb58-01e0-4de4-9773-d9f110d62a76",
   "metadata": {},
   "source": [
    "### Get Data as DF"
   ]
  },
  {
   "cell_type": "code",
   "execution_count": 33,
   "id": "df9c043f-5a5c-40e2-b7a4-050d59e66d4a",
   "metadata": {},
   "outputs": [
    {
     "name": "stdout",
     "output_type": "stream",
     "text": [
      "Daily data from yahoofinancials for RELIANCE.NS on period [2025-06-15;2025-06-25>\n"
     ]
    },
    {
     "data": {
      "text/html": [
       "<div>\n",
       "<style scoped>\n",
       "    .dataframe tbody tr th:only-of-type {\n",
       "        vertical-align: middle;\n",
       "    }\n",
       "\n",
       "    .dataframe tbody tr th {\n",
       "        vertical-align: top;\n",
       "    }\n",
       "\n",
       "    .dataframe thead th {\n",
       "        text-align: right;\n",
       "    }\n",
       "</style>\n",
       "<table border=\"1\" class=\"dataframe\">\n",
       "  <thead>\n",
       "    <tr style=\"text-align: right;\">\n",
       "      <th></th>\n",
       "      <th>Open</th>\n",
       "      <th>Close</th>\n",
       "      <th>High</th>\n",
       "      <th>Low</th>\n",
       "      <th>Volume</th>\n",
       "    </tr>\n",
       "    <tr>\n",
       "      <th>Date</th>\n",
       "      <th></th>\n",
       "      <th></th>\n",
       "      <th></th>\n",
       "      <th></th>\n",
       "      <th></th>\n",
       "    </tr>\n",
       "  </thead>\n",
       "  <tbody>\n",
       "    <tr>\n",
       "      <th>2025-06-16</th>\n",
       "      <td>1426.900024</td>\n",
       "      <td>1437.800049</td>\n",
       "      <td>1442.400024</td>\n",
       "      <td>1424.400024</td>\n",
       "      <td>8458093</td>\n",
       "    </tr>\n",
       "  </tbody>\n",
       "</table>\n",
       "</div>"
      ],
      "text/plain": [
       "                   Open        Close         High          Low   Volume\n",
       "Date                                                                   \n",
       "2025-06-16  1426.900024  1437.800049  1442.400024  1424.400024  8458093"
      ]
     },
     "execution_count": 33,
     "metadata": {},
     "output_type": "execute_result"
    }
   ],
   "source": [
    "df = load_daily_from(s_provider, s_stock_ref, nb_days, '2025-06-25') #s_end_date)\n",
    "df.head(1)"
   ]
  },
  {
   "cell_type": "markdown",
   "id": "f62f5859-2ae4-4c6a-bf12-894cc2dd578a",
   "metadata": {
    "jp-MarkdownHeadingCollapsed": true
   },
   "source": [
    "## Clean"
   ]
  },
  {
   "cell_type": "markdown",
   "id": "05f97f88-68d1-4f5e-ba72-280964229d27",
   "metadata": {},
   "source": [
    "Check DF including missing values"
   ]
  },
  {
   "cell_type": "code",
   "execution_count": null,
   "id": "6751429f-5427-4ddf-bd7d-bfb5c7829612",
   "metadata": {
    "collapsed": true,
    "jupyter": {
     "outputs_hidden": true,
     "source_hidden": true
    }
   },
   "outputs": [],
   "source": [
    "df.info()"
   ]
  },
  {
   "cell_type": "markdown",
   "id": "a00caecd-1201-4da1-b81e-ce3739bfe3dc",
   "metadata": {},
   "source": [
    "### Handle missing values"
   ]
  },
  {
   "cell_type": "code",
   "execution_count": null,
   "id": "7ded2329-87db-41a2-bb50-8e28976be54d",
   "metadata": {
    "collapsed": true,
    "jupyter": {
     "outputs_hidden": true,
     "source_hidden": true
    }
   },
   "outputs": [],
   "source": [
    "handle_missing_values(df)"
   ]
  },
  {
   "cell_type": "markdown",
   "id": "79dd4e7e-24cf-4f1f-b723-deec0da21942",
   "metadata": {
    "jp-MarkdownHeadingCollapsed": true
   },
   "source": [
    "## Visualise w/o patterns"
   ]
  },
  {
   "cell_type": "code",
   "execution_count": null,
   "id": "09f56eb6-7953-47a3-bc0b-8c11f3ba6682",
   "metadata": {
    "collapsed": true,
    "jupyter": {
     "outputs_hidden": true,
     "source_hidden": true
    }
   },
   "outputs": [],
   "source": [
    "li_addplots = []"
   ]
  },
  {
   "cell_type": "code",
   "execution_count": null,
   "id": "85dfa3d3-7ff9-4267-9990-649561eba761",
   "metadata": {
    "collapsed": true,
    "jupyter": {
     "outputs_hidden": true,
     "source_hidden": true
    },
    "scrolled": true
   },
   "outputs": [],
   "source": [
    "s_title       = s_stock_ref + ' Chart with MACD'\n",
    "li_mav        = [12, 26]\n",
    "bo_add_Volume = True\n",
    "df_subset     = get_subset_to_plot(df)\n",
    "li_addplots   = append_macd(df_subset, bo_add_Volume)\n",
    "plot_chart(df, s_title, li_mav, li_addplots, bo_add_Volume=bo_add_Volume, bo_show_legend=False)"
   ]
  },
  {
   "cell_type": "markdown",
   "id": "d3c3c4f8-263e-4103-9850-17bb5033b19f",
   "metadata": {},
   "source": [
    "# Features  \n",
    "- candlestick patterns\n",
    "- internal\n",
    "    - from shifted DF\n",
    "    - SMAs\n",
    "    - Volume\n",
    "    - price delta\n",
    "- indicators\n",
    "    - volatility\n",
    "    - sentiment\n",
    "    - FED's interest rate\n",
    "    - US unemployment rate"
   ]
  },
  {
   "cell_type": "markdown",
   "id": "280b103b-f659-49fd-8d7a-f9c25396183b",
   "metadata": {},
   "source": [
    "## Patterns"
   ]
  },
  {
   "cell_type": "markdown",
   "id": "f414d98a-fdd4-4050-9c4b-c4a371b8a095",
   "metadata": {},
   "source": [
    "### Candlesticks"
   ]
  },
  {
   "cell_type": "code",
   "execution_count": null,
   "id": "03a5d560-83f0-4839-9dfc-af29765c1b97",
   "metadata": {
    "collapsed": true,
    "jupyter": {
     "outputs_hidden": true,
     "source_hidden": true
    }
   },
   "outputs": [],
   "source": [
    "li_candle_patterns = ['Doji', 'InvHammer', 'Hammer','BullEngulf', 'BearEngulf']"
   ]
  },
  {
   "cell_type": "markdown",
   "id": "2272baa6-82b7-4c2b-a31e-16ad34bcc8d1",
   "metadata": {},
   "source": [
    "#### Append 1 DF column per pattern"
   ]
  },
  {
   "cell_type": "markdown",
   "id": "47af799f-290e-4932-8871-e8b6c1c71775",
   "metadata": {},
   "source": [
    "##### Doji & Hammers"
   ]
  },
  {
   "cell_type": "code",
   "execution_count": null,
   "id": "99f1386c-908e-4b43-b90f-b8f1098de2ec",
   "metadata": {
    "collapsed": true,
    "jupyter": {
     "outputs_hidden": true,
     "source_hidden": true
    }
   },
   "outputs": [],
   "source": [
    "df['Doji']      = df.apply(is_doji,       axis=1) # 1: applies to rows\n",
    "df['InvHammer'] = df.apply(is_inv_hammer, axis=1)\n",
    "df['Hammer']    = df.apply(is_hammer,     axis=1)"
   ]
  },
  {
   "cell_type": "markdown",
   "id": "ce81471c-19b5-46a6-ac87-83a41714bcbb",
   "metadata": {},
   "source": [
    "##### Bullish/Bearish Engulfing"
   ]
  },
  {
   "cell_type": "code",
   "execution_count": null,
   "id": "f2d4cf0c-910e-4e1e-86d4-20b2bfb1128e",
   "metadata": {
    "collapsed": true,
    "jupyter": {
     "outputs_hidden": true,
     "source_hidden": true
    }
   },
   "outputs": [],
   "source": [
    "# Append as columns 2 series of occurrencies of Bullish & Bearish Engulfings\n",
    "df['BullEngulf'] , df['BearEngulf'] = is_bull_bear_engulf(df)"
   ]
  },
  {
   "cell_type": "markdown",
   "id": "bd4e549c-c778-4eff-981d-135d75f02f5a",
   "metadata": {},
   "source": [
    "### Check pattern occurrency dates"
   ]
  },
  {
   "cell_type": "code",
   "execution_count": null,
   "id": "f69e5d5b-443c-4da9-b7a4-427839d0d244",
   "metadata": {
    "collapsed": true,
    "jupyter": {
     "outputs_hidden": true,
     "source_hidden": true
    }
   },
   "outputs": [],
   "source": [
    "get_li_pattern_dates = lambda str_pattern : df[df[str_pattern]].index.strftime('%Y-%m-%d').to_list()"
   ]
  },
  {
   "cell_type": "code",
   "execution_count": null,
   "id": "563ace09-cd5f-4bcb-b7b6-b3227e4996ab",
   "metadata": {
    "collapsed": true,
    "jupyter": {
     "outputs_hidden": true,
     "source_hidden": true
    }
   },
   "outputs": [],
   "source": [
    "for str_pattern in li_candle_patterns :\n",
    "    print(f'{str_pattern:<15} : {get_li_pattern_dates(str_pattern)[:5]}' )"
   ]
  },
  {
   "cell_type": "markdown",
   "id": "5e424bc8-5c38-468b-9d43-984194c70ed0",
   "metadata": {},
   "source": [
    "#### Plot most recent occurency per pattern"
   ]
  },
  {
   "cell_type": "code",
   "execution_count": null,
   "id": "08f8d408-4184-4aec-b23f-b84e6df9450f",
   "metadata": {
    "collapsed": true,
    "jupyter": {
     "outputs_hidden": true,
     "source_hidden": true
    },
    "scrolled": true
   },
   "outputs": [],
   "source": [
    "li_patterns = ['Doji', 'InvHammer', 'Hammer', 'BullEngulf', 'BearEngulf']\n",
    "for s_pattern in li_patterns :\n",
    "    li_dates = df[df[s_pattern]].index.to_list()\n",
    "    print(s_pattern, ':', len(li_dates), 'ocurrencies')\n",
    "    plot_pattern_sample(df, li_dates, s_pattern)"
   ]
  },
  {
   "cell_type": "markdown",
   "id": "9f34b992-58bb-427f-b963-afdd0a2c609a",
   "metadata": {},
   "source": [
    "#### Plot Candle patterns in a single chart"
   ]
  },
  {
   "cell_type": "code",
   "execution_count": null,
   "id": "ad537166-4cc7-4d6b-8cb7-3ec0521c4097",
   "metadata": {
    "collapsed": true,
    "jupyter": {
     "outputs_hidden": true,
     "source_hidden": true
    },
    "scrolled": true
   },
   "outputs": [],
   "source": [
    "s_title       = 'Candle Patterns on chart'\n",
    "li_mav        = [12, 26]\n",
    "bo_add_Volume = False\n",
    "li_addplots   = [   append_pattern(df, 'Doji',       'cyan'),\n",
    "                    append_pattern(df, 'InvHammer',  'yellow'),\n",
    "                    append_pattern(df, 'Hammer',     'orange'),\n",
    "                    append_pattern(df, 'BullEngulf', 'green'),\n",
    "                    append_pattern(df, 'BearEngulf', 'pink')\n",
    "                ]\n",
    "plot_chart(df, s_title, li_mav, li_addplots, bo_add_Volume=bo_add_Volume)"
   ]
  },
  {
   "cell_type": "markdown",
   "id": "194aa9c2-384a-44f5-9c23-8ffb7f574f67",
   "metadata": {},
   "source": [
    "#### Plot 1 Candle pattern per chart"
   ]
  },
  {
   "cell_type": "code",
   "execution_count": null,
   "id": "a7323212-2ea3-49b1-a883-fba5ca491554",
   "metadata": {
    "collapsed": true,
    "jupyter": {
     "outputs_hidden": true,
     "source_hidden": true
    }
   },
   "outputs": [],
   "source": [
    "for s_pattern in ['Doji', 'InvHammer', 'Hammer', 'BullEngulf', 'BearEngulf'] :\n",
    "    plot_pattern_full(df, s_pattern, li_mav, i_width=15, i_height=3, s_color='orange')\n",
    "plt.show()"
   ]
  },
  {
   "cell_type": "markdown",
   "id": "c62bd1c0-3449-4188-bf92-cb4416227dd2",
   "metadata": {},
   "source": [
    "## SMA Crossings"
   ]
  },
  {
   "cell_type": "code",
   "execution_count": null,
   "id": "dabd89d4-e65c-4aea-b6f0-304010c3a6eb",
   "metadata": {
    "collapsed": true,
    "jupyter": {
     "outputs_hidden": true,
     "source_hidden": true
    }
   },
   "outputs": [],
   "source": [
    "sr_close = df['Close']"
   ]
  },
  {
   "cell_type": "markdown",
   "id": "10fcfcfc-8078-4c75-a614-8ba86795debd",
   "metadata": {},
   "source": [
    "### Strategy 1-SMA"
   ]
  },
  {
   "cell_type": "markdown",
   "id": "ab4a562a-bdee-4bf3-a9dc-7205456415b7",
   "metadata": {},
   "source": [
    "#### Closing Price vs. Long-Period SMA\n",
    "Buy when Closing Price curve exceeds Long-Term and Sell when it subceeds"
   ]
  },
  {
   "cell_type": "code",
   "execution_count": null,
   "id": "b24de6ad-cfa5-49a6-96f0-6316bc6cc7f4",
   "metadata": {
    "collapsed": true,
    "jupyter": {
     "outputs_hidden": true,
     "source_hidden": true
    }
   },
   "outputs": [],
   "source": [
    "i_long = 17  # nb of days\n",
    "sr_long  = get_sma(sr_close, i_long)"
   ]
  },
  {
   "cell_type": "code",
   "execution_count": null,
   "id": "674652bb-abf9-4485-a63e-da549ddb1888",
   "metadata": {
    "collapsed": true,
    "jupyter": {
     "outputs_hidden": true,
     "source_hidden": true
    }
   },
   "outputs": [],
   "source": [
    "df['1SMA_Buy'], df['1SMA_Sell'] = get_crossings(sr_close, sr_long)"
   ]
  },
  {
   "cell_type": "markdown",
   "id": "82498738-ad26-474f-9df6-fcd7bc774524",
   "metadata": {},
   "source": [
    "#### Plot 1-SMA"
   ]
  },
  {
   "cell_type": "code",
   "execution_count": null,
   "id": "81d5f23c-a49e-4db8-a721-4e21f6514db2",
   "metadata": {
    "collapsed": true,
    "jupyter": {
     "outputs_hidden": true,
     "source_hidden": true
    },
    "scrolled": true
   },
   "outputs": [],
   "source": [
    "s_title     = 'Close vs. 1-SMA Crossings'\n",
    "li_mav      = [i_long]\n",
    "li_addplots = [   append_pattern(df, '1SMA_Buy',  'orange'),\n",
    "                  append_pattern(df, '1SMA_Sell', 'cyan')\n",
    "              ]\n",
    "plot_chart(df, s_title, li_mav, li_addplots, bo_add_Volume=False, i_width=40, i_height=5)"
   ]
  },
  {
   "cell_type": "code",
   "execution_count": null,
   "id": "547f6bdc-1ef0-421c-be0b-a62fa8c5b18d",
   "metadata": {
    "collapsed": true,
    "jupyter": {
     "outputs_hidden": true,
     "source_hidden": true
    }
   },
   "outputs": [],
   "source": [
    "print('Balance=', get_balance(df, 'Close', '1SMA_Buy', '1SMA_Sell') )"
   ]
  },
  {
   "cell_type": "markdown",
   "id": "b6c015bf-2332-4c7e-82fd-8e3ce8d922d4",
   "metadata": {},
   "source": [
    "### Strategy 2-SMA\n",
    "#### Short vs. Long Period SMAs\n",
    "Buy when Short-Term curve exceeds Long-Term and Sell when it subceeds"
   ]
  },
  {
   "cell_type": "code",
   "execution_count": null,
   "id": "cfc3d500-ddd0-4765-97d0-28265c205ab3",
   "metadata": {
    "collapsed": true,
    "jupyter": {
     "outputs_hidden": true,
     "source_hidden": true
    }
   },
   "outputs": [],
   "source": [
    "i_short, i_long = 8, 29 # nb of days\n",
    "sr_short = get_sma(sr_close, i_short)\n",
    "sr_long  = get_sma(sr_close, i_long)"
   ]
  },
  {
   "cell_type": "markdown",
   "id": "31ffb620-47ce-4662-879d-5fda6c481818",
   "metadata": {},
   "source": [
    "Identify Crossings to detect when Short-Term curve subceeds and exceeds Long-Term"
   ]
  },
  {
   "cell_type": "code",
   "execution_count": null,
   "id": "ea467d3c-3d0a-4b9e-a98a-91d6b546d087",
   "metadata": {
    "collapsed": true,
    "jupyter": {
     "outputs_hidden": true,
     "source_hidden": true
    }
   },
   "outputs": [],
   "source": [
    "df['2SMA_Buy'], df['2SMA_Sell'] = get_crossings(sr_short, sr_long)"
   ]
  },
  {
   "cell_type": "markdown",
   "id": "cf5446cc-6a5c-45fa-ab68-e1fde22d6a8e",
   "metadata": {},
   "source": [
    "#### Plot 2-SMA"
   ]
  },
  {
   "cell_type": "code",
   "execution_count": null,
   "id": "638154dc-d29e-426d-a4f4-419daf02657a",
   "metadata": {
    "collapsed": true,
    "jupyter": {
     "outputs_hidden": true,
     "source_hidden": true
    },
    "scrolled": true
   },
   "outputs": [],
   "source": [
    "s_title     = 'Crossings on chart'\n",
    "li_mav      = [i_short, i_long]\n",
    "df_subset   = get_subset_to_plot(df)\n",
    "li_addplots = [   append_pattern(df, '2SMA_Buy',  'orange'),\n",
    "                  append_pattern(df, '2SMA_Sell', 'cyan')\n",
    "              ]\n",
    "plot_chart(df, s_title, li_mav, li_addplots, bo_add_Volume=False, i_width=40, i_height=5)"
   ]
  },
  {
   "cell_type": "code",
   "execution_count": null,
   "id": "93c5926b-60f9-4022-a213-fa7f0b3203e8",
   "metadata": {
    "collapsed": true,
    "jupyter": {
     "outputs_hidden": true,
     "source_hidden": true
    }
   },
   "outputs": [],
   "source": [
    "print('Balance=', get_balance(df, 'Close', '2SMA_Buy', '2SMA_Sell') )"
   ]
  },
  {
   "cell_type": "markdown",
   "id": "6eee76b7-2595-4f3b-bf06-bb5d1423e50c",
   "metadata": {},
   "source": [
    "#### 2-SMA Optimisation"
   ]
  },
  {
   "cell_type": "code",
   "execution_count": null,
   "id": "3517f143-dd87-4880-a531-a2734b9d9c34",
   "metadata": {
    "collapsed": true,
    "jupyter": {
     "outputs_hidden": true,
     "source_hidden": true
    }
   },
   "outputs": [],
   "source": [
    "i_short, i_long = 8, 29 # nb of days"
   ]
  },
  {
   "cell_type": "code",
   "execution_count": null,
   "id": "cd96a0cc-33ca-4b16-a2f3-849fb50d4929",
   "metadata": {
    "collapsed": true,
    "jupyter": {
     "outputs_hidden": true,
     "source_hidden": true
    }
   },
   "outputs": [],
   "source": [
    "li_results = []  # list of tuples (short period, long period, balance)\n",
    "for i_short in range(3, 14) :\n",
    "    for i_long in range(15, 50) :\n",
    "        i_balance = get_2SMA_balance(df, i_short, i_long, sr_close)\n",
    "        if i_balance > 0 : li_results.append( (i_short, i_long, i_balance) ) "
   ]
  },
  {
   "cell_type": "code",
   "execution_count": null,
   "id": "b485ea50-5e11-495a-bb7d-20c50c5671b7",
   "metadata": {
    "collapsed": true,
    "jupyter": {
     "outputs_hidden": true,
     "source_hidden": true
    }
   },
   "outputs": [],
   "source": [
    "li_top_5 = sorted(li_results, key=lambda x:x[2], reverse=True)[:5] # get top 10 balance amounts\n",
    "pd.DataFrame(li_top_5, columns=['SMA-A', 'SMA-B', 'Balance'])"
   ]
  },
  {
   "cell_type": "markdown",
   "id": "35b7ea02-9e13-4d09-8f1b-2a45498e2050",
   "metadata": {},
   "source": [
    "## Indicators\n",
    "### Volatility Index\n",
    "CBOE Volatility Index (VIX) is traded like a stock or ETF"
   ]
  },
  {
   "cell_type": "code",
   "execution_count": null,
   "id": "fa9988da-ef80-4c1a-9ce6-1ec908dc7cc7",
   "metadata": {
    "collapsed": true,
    "jupyter": {
     "outputs_hidden": true,
     "source_hidden": true
    }
   },
   "outputs": [],
   "source": [
    "s_stock_ref = '^VIX'\n",
    "df_vix = load_daily_from(s_provider, s_stock_ref, nb_days, s_end_date)\n",
    "df_vix.head(1)"
   ]
  },
  {
   "cell_type": "code",
   "execution_count": null,
   "id": "8a9b013b-ff30-4b8b-a556-cd0da6c220bf",
   "metadata": {
    "collapsed": true,
    "jupyter": {
     "outputs_hidden": true,
     "source_hidden": true
    }
   },
   "outputs": [],
   "source": [
    "df['VIX'] = df_vix['Close'] #.shift(1)"
   ]
  },
  {
   "cell_type": "code",
   "execution_count": null,
   "id": "c9845d01-bef6-4003-be3b-73451c7f0ac3",
   "metadata": {
    "collapsed": true,
    "jupyter": {
     "outputs_hidden": true,
     "source_hidden": true
    }
   },
   "outputs": [],
   "source": [
    "df['VIX'].head(1)"
   ]
  },
  {
   "cell_type": "code",
   "execution_count": null,
   "id": "09d7d093-f9b5-4fbe-8fb2-316e80711806",
   "metadata": {
    "collapsed": true,
    "jupyter": {
     "outputs_hidden": true,
     "source_hidden": true
    }
   },
   "outputs": [],
   "source": [
    "df['VIX'].info()"
   ]
  },
  {
   "cell_type": "code",
   "execution_count": null,
   "id": "caa96c53-907a-43ba-a4e0-044afc652f86",
   "metadata": {
    "collapsed": true,
    "jupyter": {
     "outputs_hidden": true,
     "source_hidden": true
    }
   },
   "outputs": [],
   "source": [
    "get_NaN_dates(df, 'VIX')"
   ]
  },
  {
   "cell_type": "code",
   "execution_count": null,
   "id": "c9e8f006-c581-45b7-8c1e-60df44ef186e",
   "metadata": {
    "collapsed": true,
    "jupyter": {
     "outputs_hidden": true,
     "source_hidden": true
    }
   },
   "outputs": [],
   "source": [
    "df[df['VIX'].isna()].index.strftime('%Y-%m-%d').to_list()"
   ]
  },
  {
   "cell_type": "code",
   "execution_count": null,
   "id": "1a528fd7-0af2-4a98-a1a6-0919a094d6b0",
   "metadata": {
    "collapsed": true,
    "jupyter": {
     "outputs_hidden": true,
     "source_hidden": true
    }
   },
   "outputs": [],
   "source": [
    "s_title     = 'Volatility on chart'\n",
    "li_mav      = [] #[i_short, i_long]\n",
    "df_subset   = get_subset_to_plot(df)\n",
    "li_addplots = [ mpf.make_addplot(df_subset[['VIX']], type='line', color='blue') ]\n",
    "plot_chart(df_subset, s_title, li_mav, li_addplots, bo_add_Volume=False, i_width=40, i_height=5)"
   ]
  },
  {
   "cell_type": "markdown",
   "id": "e376c86f-5e3e-4c69-8f63-06b9f2940663",
   "metadata": {},
   "source": [
    "### Macro-Economic\n",
    "[Get free FRED API key](https://fred.stlouisfed.org/docs/api/api_key.html)"
   ]
  },
  {
   "cell_type": "code",
   "execution_count": 37,
   "id": "4bee9b58-4dcc-418f-83df-d552efae1105",
   "metadata": {},
   "outputs": [],
   "source": [
    "s_start_date = get_str_past_date(s_end_date, max(nb_days, 120) )"
   ]
  },
  {
   "cell_type": "markdown",
   "id": "3cbe9cec-b564-4fe3-92d5-1f280c8253d5",
   "metadata": {},
   "source": [
    "Get API key from local file"
   ]
  },
  {
   "cell_type": "code",
   "execution_count": 35,
   "id": "e687ed58-abb3-4840-aca8-79eb195b78b1",
   "metadata": {},
   "outputs": [],
   "source": [
    "with open('FRED_api_key/key.txt') as file_w_key: str_key = file_w_key.read()\n",
    "fred = Fred(api_key=str_key)"
   ]
  },
  {
   "cell_type": "markdown",
   "id": "480353a6-c148-48fc-b820-41a5cabf8ea2",
   "metadata": {},
   "source": [
    "#### Rates from [Federal Reserve](https://fred.stlouisfed.org/categories)"
   ]
  },
  {
   "cell_type": "code",
   "execution_count": 38,
   "id": "42cbf0d6-5698-4fb4-8e0f-1b289dd372e2",
   "metadata": {},
   "outputs": [
    {
     "data": {
      "image/png": "[encoded data removed]",
      "text/plain": [
       "<Figure size 1000x100 with 1 Axes>"
      ]
     },
     "metadata": {},
     "output_type": "display_data"
    },
    {
     "data": {
      "image/png": "[encoded data removed]",
      "text/plain": [
       "<Figure size 1000x100 with 1 Axes>"
      ]
     },
     "metadata": {},
     "output_type": "display_data"
    },
    {
     "data": {
      "image/png": "[encoded data removed]",
      "text/plain": [
       "<Figure size 1000x100 with 1 Axes>"
      ]
     },
     "metadata": {},
     "output_type": "display_data"
    },
    {
     "data": {
      "image/png": "[encoded data removed]",
      "text/plain": [
       "<Figure size 1000x100 with 1 Axes>"
      ]
     },
     "metadata": {},
     "output_type": "display_data"
    }
   ],
   "source": [
    "li_fred_rates = ['FEDFUNDS', 'UNRATE',      'CPIAUCSL',  'UMCSENT']\n",
    "li_fred_cols  = ['Interest',    'Uneployment', 'Inflation', 'Sentiment']\n",
    "for str_rate, str_prefix in zip(li_fred_rates,li_fred_cols) :\n",
    "    ser_rate = fred.get_series(str_rate, observation_start=s_start_date)\n",
    "    str_col = str_prefix + ' Rate (%)'\n",
    "    pd.DataFrame(ser_rate).plot(title=str_col, figsize=(10,1), grid=True)\n",
    "    plt.show()"
   ]
  },
  {
   "cell_type": "markdown",
   "id": "82b79bcb-485b-4848-ae02-642c0d633c52",
   "metadata": {},
   "source": [
    "# ToDo : \n",
    "- implement ML w/ train-validate-test partition & feature engineering"
   ]
  },
  {
   "cell_type": "raw",
   "id": "b4b771b4-fc32-4840-97b8-2426e7fff31b",
   "metadata": {},
   "source": [
    "save as *.py, run commandline in console:\n",
    "C:\\Users\\Jean\\anaconda_projects\\finance>jupyter nbconvert --to script Algorithmic_Trading.ipynb"
   ]
  },
  {
   "cell_type": "code",
   "execution_count": null,
   "id": "fcb3dbd4-9a31-47fe-87fe-72a939fc32bd",
   "metadata": {},
   "outputs": [],
   "source": []
  }
 ],
 "metadata": {
  "kernelspec": {
   "display_name": "Python 3 (ipykernel)",
   "language": "python",
   "name": "python3"
  },
  "language_info": {
   "codemirror_mode": {
    "name": "ipython",
    "version": 3
   },
   "file_extension": ".py",
   "mimetype": "text/x-python",
   "name": "python",
   "nbconvert_exporter": "python",
   "pygments_lexer": "ipython3",
   "version": "3.12.11"
  }
 },
 "nbformat": 4,
 "nbformat_minor": 5
}
